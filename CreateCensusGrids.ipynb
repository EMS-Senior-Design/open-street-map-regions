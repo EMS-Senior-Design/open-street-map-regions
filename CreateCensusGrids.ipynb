{
 "cells": [
  {
   "cell_type": "code",
   "execution_count": 41,
   "metadata": {},
   "outputs": [],
   "source": [
    "CENSUS_TRACTS_DIR = \"census_tracts\"\n",
    "# Units are miles\n",
    "STATIC_SQUARE_SIZE = 1\n",
    "LATITUDE_MILES = 69\n",
    "LONGITUDE_MILES = 54.6\n",
    "LATITUDE_DELTA = STATIC_SQUARE_SIZE/LATITUDE_MILES\n",
    "LONGITUDE_DELTA = STATIC_SQUARE_SIZE/LONGITUDE_MILES"
   ]
  },
  {
   "cell_type": "code",
   "execution_count": 49,
   "metadata": {},
   "outputs": [],
   "source": [
    "import os\n",
    "import xml.etree.ElementTree as ET\n",
    "import collections\n",
    "import json"
   ]
  },
  {
   "cell_type": "code",
   "execution_count": 21,
   "metadata": {},
   "outputs": [
    {
     "name": "stdout",
     "output_type": "stream",
     "text": [
      "17_81.txt\n",
      "9800.txt\n",
      "3_07.txt\n",
      "18_58.txt\n",
      "19_19.txt\n",
      "18_46.txt\n",
      "23_12.txt\n",
      "23_04.txt\n",
      "24_30.txt\n",
      "15_01.txt\n",
      "2_05.txt\n",
      "17_60.txt\n"
     ]
    }
   ],
   "source": [
    "# Read all census tracts and put points in dict\n",
    "census_tracts_bounding = {}\n",
    "census_tracts_points = {}\n",
    "for fname in os.listdir(CENSUS_TRACTS_DIR):\n",
    "    latitudes = []\n",
    "    longitudes = []\n",
    "    try:\n",
    "        # Parse the XML file\n",
    "        root = ET.parse(\"{}/{}\".format(CENSUS_TRACTS_DIR, fname)).getroot()\n",
    "        for type_tag in root.findall(\"node\"):\n",
    "            d = type_tag.attrib\n",
    "            latitudes.append(float(d[\"lat\"]))\n",
    "            longitudes.append(float(d[\"lon\"]))\n",
    "        census_tracts_points[fname.strip(\".txt\")] = list(zip(latitudes, longitudes))\n",
    "        census_tracts_bounding[fname.strip(\".txt\")] = [(min(latitudes), min(longitudes)), (max(latitudes), max(longitudes))]\n",
    "    except:\n",
    "        print(fname)"
   ]
  },
  {
   "cell_type": "code",
   "execution_count": 43,
   "metadata": {},
   "outputs": [],
   "source": [
    "def in_grid(grid_lat, grid_lon, lat, lon):\n",
    "    return (grid_lat <= lat <= grid_lat + LATITUDE_DELTA and grid_lon <= lon <= grid_lon + LONGITUDE_DELTA)"
   ]
  },
  {
   "cell_type": "code",
   "execution_count": 44,
   "metadata": {},
   "outputs": [],
   "source": [
    "census_tract_grids = collections.defaultdict(list)\n",
    "for tract_name in census_tracts_rect:\n",
    "    grid_lat = census_tracts_bounding[tract_name][0][0]\n",
    "    grid_lon = census_tracts_bounding[tract_name][0][1]\n",
    "    while grid_lat < census_tracts_bounding[tract_name][1][0]:\n",
    "        while grid_lon < census_tracts_bounding[tract_name][1][1]:\n",
    "            # if there exists a point in the osm file for this tract that is in this square, add this square for this tract\n",
    "            for lat, lon in census_tracts_points[tract_name]:\n",
    "                if in_grid(grid_lat, grid_lon, lat, lon):\n",
    "                    census_tract_grids[tract_name].append([grid_lat, grid_lon])\n",
    "                    break\n",
    "            grid_lon += LONGITUDE_DELTA\n",
    "        grid_lat += LATITUDE_DELTA"
   ]
  },
  {
   "cell_type": "code",
   "execution_count": 52,
   "metadata": {},
   "outputs": [],
   "source": [
    "output_dict = {}\n",
    "output_dict[\"GRID_SIZE\"] = STATIC_SQUARE_SIZE\n",
    "output_dict[\"LATITUDE_DELTA\"] = LATITUDE_DELTA\n",
    "output_dict[\"LONGITUDE_DELTA\"] = LONGITUDE_DELTA\n",
    "output_dict[\"census_tracts_bounding\"] = census_tracts_bounding\n",
    "output_dict[\"census_tract_grids\"] = census_tract_grids"
   ]
  },
  {
   "cell_type": "code",
   "execution_count": 53,
   "metadata": {},
   "outputs": [],
   "source": [
    "json.dump(output_dict, open(\"census_tracts_info.json\", \"w\"))"
   ]
  },
  {
   "cell_type": "code",
   "execution_count": null,
   "metadata": {},
   "outputs": [],
   "source": [
    "# To search\n",
    "# Find all possible tracts it can be by searching through census_tracts_bounding\n",
    "# Search through the possible tracts to see which square it falls under --> Now we \n",
    "# know which tract it is in and which grid it lies in so we can index into the time matrix"
   ]
  }
 ],
 "metadata": {
  "kernelspec": {
   "display_name": "Python 3",
   "language": "python",
   "name": "python3"
  },
  "language_info": {
   "codemirror_mode": {
    "name": "ipython",
    "version": 3
   },
   "file_extension": ".py",
   "mimetype": "text/x-python",
   "name": "python",
   "nbconvert_exporter": "python",
   "pygments_lexer": "ipython3",
   "version": "3.6.4"
  }
 },
 "nbformat": 4,
 "nbformat_minor": 4
}
