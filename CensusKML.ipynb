{
 "cells": [
  {
   "cell_type": "code",
   "execution_count": 127,
   "metadata": {},
   "outputs": [],
   "source": [
    "import simplekml\n",
    "import json\n",
    "import fiona"
   ]
  },
  {
   "cell_type": "code",
   "execution_count": 128,
   "metadata": {},
   "outputs": [],
   "source": [
    "shape = fiona.open(\"tl_2019_48_tract/tl_2019_48_tract.shp\")\n",
    "d = {}\n",
    "for s in shape:\n",
    "    if s[\"properties\"][\"COUNTYFP\"] == \"453\":\n",
    "        d[s[\"properties\"][\"NAME\"]] = s[\"geometry\"][\"coordinates\"]"
   ]
  },
  {
   "cell_type": "code",
   "execution_count": 129,
   "metadata": {},
   "outputs": [],
   "source": [
    "kml = simplekml.Kml(open=1)"
   ]
  },
  {
   "cell_type": "code",
   "execution_count": 130,
   "metadata": {},
   "outputs": [],
   "source": [
    "with open(\"census_tracts_info_2.json\") as f:\n",
    "    data = json.load(f)"
   ]
  },
  {
   "cell_type": "code",
   "execution_count": 131,
   "metadata": {},
   "outputs": [],
   "source": [
    "LATITUDE_DELTA = data[\"LATITUDE_DELTA\"]\n",
    "LONGITUDE_DELTA = data[\"LONGITUDE_DELTA\"]\n",
    "for regions in data[\"census_tract_grids\"].values():\n",
    "    for top_left in regions:\n",
    "        pol = kml.newpolygon(name=\"Region\")\n",
    "        pol.outerboundaryis = [[top_left[1]+y, top_left[0]+x] for x, y in zip([0, 0, LATITUDE_DELTA, LATITUDE_DELTA, 0], [0, LONGITUDE_DELTA, LONGITUDE_DELTA, 0, 0])]\n",
    "        pol.style.linestyle.color = simplekml.Color.red\n",
    "        pol.style.polystyle.fill = 0"
   ]
  },
  {
   "cell_type": "code",
   "execution_count": 132,
   "metadata": {},
   "outputs": [],
   "source": [
    "for points_list in d.values():\n",
    "    points = points_list[0]\n",
    "    pol = kml.newpolygon(name=\"Tracts\")\n",
    "    pol.outerboundaryis = points\n",
    "    pol.innerboundaryis = points\n",
    "    pol.style.linestyle.color = simplekml.Color.blue"
   ]
  },
  {
   "cell_type": "code",
   "execution_count": 133,
   "metadata": {},
   "outputs": [],
   "source": [
    "kml.save(\"test.kml\")"
   ]
  },
  {
   "cell_type": "code",
   "execution_count": null,
   "metadata": {},
   "outputs": [],
   "source": []
  }
 ],
 "metadata": {
  "kernelspec": {
   "display_name": "Python 3",
   "language": "python",
   "name": "python3"
  },
  "language_info": {
   "codemirror_mode": {
    "name": "ipython",
    "version": 3
   },
   "file_extension": ".py",
   "mimetype": "text/x-python",
   "name": "python",
   "nbconvert_exporter": "python",
   "pygments_lexer": "ipython3",
   "version": "3.6.4"
  }
 },
 "nbformat": 4,
 "nbformat_minor": 4
}
