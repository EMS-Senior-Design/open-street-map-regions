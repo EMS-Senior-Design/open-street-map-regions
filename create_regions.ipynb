{
 "cells": [
  {
   "cell_type": "code",
   "execution_count": 36,
   "metadata": {},
   "outputs": [],
   "source": [
    "# unzip input file first\n",
    "\n",
    "import xml.etree.ElementTree as ET\n",
    "import requests\n",
    "import math"
   ]
  },
  {
   "cell_type": "code",
   "execution_count": 2,
   "metadata": {},
   "outputs": [],
   "source": [
    "root = ET.parse('input-files/RoughlyTravisCounty.osm').getroot()"
   ]
  },
  {
   "cell_type": "code",
   "execution_count": 8,
   "metadata": {},
   "outputs": [],
   "source": [
    "latitudes = []\n",
    "longitudes = []\n",
    "for type_tag in root.findall(\"node\"):\n",
    "    d = type_tag.attrib\n",
    "    latitudes.append(float(d[\"lat\"]))\n",
    "    longitudes.append(float(d[\"lon\"]))"
   ]
  },
  {
   "cell_type": "code",
   "execution_count": 50,
   "metadata": {},
   "outputs": [],
   "source": [
    "LATITUDE_MILES = 69\n",
    "LONGITUDE_MILES = 54.6\n",
    "\n",
    "vertical_distance = (max(latitudes) - min(latitudes))*LATITUDE_MILES\n",
    "horizontal_distance = (max(longitudes) - min(longitudes))*LONGITUDE_MILES"
   ]
  },
  {
   "cell_type": "code",
   "execution_count": 51,
   "metadata": {},
   "outputs": [],
   "source": [
    "# Assuming we want to make 400 squares, how should we partition the vertically/horizontally\n",
    "NUM_REGIONS = 400\n",
    "square_len = (vertical_distance*horizontal_distance/NUM_REGIONS)**0.5"
   ]
  },
  {
   "cell_type": "code",
   "execution_count": 133,
   "metadata": {},
   "outputs": [],
   "source": [
    "latitude_delta = square_len/LATITUDE_MILES\n",
    "longitude_delta = square_len/LONGITUDE_MILES"
   ]
  },
  {
   "cell_type": "code",
   "execution_count": 53,
   "metadata": {},
   "outputs": [],
   "source": [
    "lat_lon = zip(latitudes, longitudes)"
   ]
  },
  {
   "cell_type": "code",
   "execution_count": 62,
   "metadata": {},
   "outputs": [],
   "source": [
    "min_lat = min(latitudes)\n",
    "min_lon = min(longitudes)\n",
    "max_lat = max(latitudes)\n",
    "max_lon = max(longitudes)\n",
    "nrows = math.ceil((max_lat - min_lat) / latitude_delta)\n",
    "ncols = math.ceil((max_lon - min_lon) / longitude_delta)\n",
    "def map_point_to_region(latitude, longitude):\n",
    "    return math.floor((latitude-min_lat)/latitude_delta) * ncols  + math.floor((longitude-min_lon)/longitude_delta)"
   ]
  },
  {
   "cell_type": "code",
   "execution_count": 88,
   "metadata": {},
   "outputs": [],
   "source": [
    "def get_representative(region_num): # 8 cols per row, # R10 --> row_num = 1, col_num = 2\n",
    "    row_num = region_num//ncols # Correct\n",
    "    col_num = region_num - row_num*ncols\n",
    "    lat = min_lat + row_num * latitude_delta + 0.5*latitude_delta\n",
    "    lon = min_lon + col_num * longitude_delta + 0.5*longitude_delta\n",
    "    return [lon, lat]"
   ]
  },
  {
   "cell_type": "code",
   "execution_count": 89,
   "metadata": {},
   "outputs": [
    {
     "data": {
      "text/plain": [
       "13"
      ]
     },
     "execution_count": 89,
     "metadata": {},
     "output_type": "execute_result"
    }
   ],
   "source": [
    "map_point_to_region(30.084446, -97.702885)"
   ]
  },
  {
   "cell_type": "code",
   "execution_count": 90,
   "metadata": {},
   "outputs": [
    {
     "data": {
      "text/plain": [
       "[-97.68468325435288, 30.090783782593846]"
      ]
     },
     "execution_count": 90,
     "metadata": {},
     "output_type": "execute_result"
    }
   ],
   "source": [
    "get_representative(13)"
   ]
  },
  {
   "cell_type": "code",
   "execution_count": 67,
   "metadata": {},
   "outputs": [
    {
     "data": {
      "text/plain": [
       "0.030993565187689837"
      ]
     },
     "execution_count": 67,
     "metadata": {},
     "output_type": "execute_result"
    }
   ],
   "source": [
    "for i in range(400):\n",
    "    get_representative(i)"
   ]
  },
  {
   "cell_type": "code",
   "execution_count": 91,
   "metadata": {},
   "outputs": [],
   "source": [
    " headers = {\n",
    "    'Accept': 'application/json, application/geo+json, application/gpx+xml, img/png; charset=utf-8',\n",
    "    'Authorization': '5b3ce3597851110001cf624884518d9d4075408e95e3401165976247',\n",
    "    'Content-Type': 'application/json; charset=utf-8'\n",
    "}"
   ]
  },
  {
   "cell_type": "code",
   "execution_count": 109,
   "metadata": {},
   "outputs": [
    {
     "name": "stdout",
     "output_type": "stream",
     "text": [
      "Done with iteration 0\n",
      "Done with iteration 1\n",
      "Done with iteration 2\n",
      "Done with iteration 3\n",
      "Done with iteration 4\n",
      "Done with iteration 5\n",
      "Done with iteration 6\n",
      "Done with iteration 7\n",
      "Done with iteration 8\n",
      "Done with iteration 9\n",
      "Done with iteration 10\n",
      "Done with iteration 11\n",
      "Done with iteration 12\n",
      "Done with iteration 13\n",
      "Done with iteration 14\n",
      "Done with iteration 15\n",
      "Done with iteration 16\n",
      "Done with iteration 17\n",
      "Done with iteration 18\n",
      "Done with iteration 19\n",
      "Done with iteration 20\n",
      "Done with iteration 21\n",
      "Done with iteration 22\n",
      "Done with iteration 23\n",
      "Done with iteration 24\n",
      "Done with iteration 25\n",
      "Done with iteration 26\n",
      "Done with iteration 27\n",
      "Done with iteration 28\n",
      "Done with iteration 29\n",
      "Done with iteration 30\n",
      "Done with iteration 31\n",
      "Done with iteration 32\n",
      "Done with iteration 33\n",
      "Done with iteration 34\n",
      "Done with iteration 35\n",
      "Done with iteration 36\n",
      "Done with iteration 37\n",
      "Done with iteration 38\n",
      "Done with iteration 39\n",
      "Done with iteration 40\n",
      "Done with iteration 41\n",
      "Done with iteration 42\n",
      "Done with iteration 43\n",
      "Done with iteration 44\n",
      "Done with iteration 45\n",
      "Done with iteration 46\n",
      "Done with iteration 47\n",
      "Done with iteration 48\n",
      "Done with iteration 49\n"
     ]
    }
   ],
   "source": [
    "result = [[] for i in range(400)]\n",
    "for num in range(50):\n",
    "    body = {\"locations\": [get_representative(i) for i in range(400)], \"destinations\": [i for i in range(8*num, 8*num+8)]}\n",
    "    call = requests.post('https://api.openrouteservice.org/v2/matrix/driving-car', json=body, headers=headers)\n",
    "    for i in range(400):\n",
    "        result[i] += call.json()[\"durations\"][i]\n",
    "    print(\"Done with iteration {}\".format(num))"
   ]
  },
  {
   "cell_type": "code",
   "execution_count": 128,
   "metadata": {},
   "outputs": [],
   "source": [
    "import csv\n",
    "with open(\"save_distances.csv\", \"w\") as c:\n",
    "    w = csv.writer(c)\n",
    "    for r in result:\n",
    "        w.writerow(r)"
   ]
  },
  {
   "cell_type": "code",
   "execution_count": 134,
   "metadata": {},
   "outputs": [
    {
     "ename": "SyntaxError",
     "evalue": "invalid syntax (<ipython-input-134-a39273ed45c2>, line 4)",
     "output_type": "error",
     "traceback": [
      "\u001b[0;36m  File \u001b[0;32m\"<ipython-input-134-a39273ed45c2>\"\u001b[0;36m, line \u001b[0;32m4\u001b[0m\n\u001b[0;31m    d[]\u001b[0m\n\u001b[0m      ^\u001b[0m\n\u001b[0;31mSyntaxError\u001b[0m\u001b[0;31m:\u001b[0m invalid syntax\n"
     ]
    }
   ],
   "source": [
    "import json\n",
    "\n",
    "d = {\"latitude_min\": min_lat, \"longitude_min\": min_lon, \"latitude_step\": latitude_delta, \"longitude_step\": longitude_delta}\n",
    "d[\"\"]\n",
    "with open(\"grid_info.json\", \"w\") as j:\n",
    "    json.dump(d, j)"
   ]
  },
  {
   "cell_type": "code",
   "execution_count": null,
   "metadata": {},
   "outputs": [],
   "source": []
  }
 ],
 "metadata": {
  "kernelspec": {
   "display_name": "Python 3",
   "language": "python",
   "name": "python3"
  },
  "language_info": {
   "codemirror_mode": {
    "name": "ipython",
    "version": 3
   },
   "file_extension": ".py",
   "mimetype": "text/x-python",
   "name": "python",
   "nbconvert_exporter": "python",
   "pygments_lexer": "ipython3",
   "version": "3.6.9"
  }
 },
 "nbformat": 4,
 "nbformat_minor": 2
}
