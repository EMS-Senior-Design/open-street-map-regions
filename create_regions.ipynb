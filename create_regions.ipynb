{
 "cells": [
  {
   "cell_type": "code",
   "execution_count": 36,
   "metadata": {},
   "outputs": [],
   "source": [
    "# unzip input file first\n",
    "\n",
    "import xml.etree.ElementTree as ET\n",
    "import requests\n",
    "import math"
   ]
  },
  {
   "cell_type": "code",
   "execution_count": 2,
   "metadata": {},
   "outputs": [],
   "source": [
    "root = ET.parse('input-files/RoughlyTravisCounty.osm').getroot()"
   ]
  },
  {
   "cell_type": "code",
   "execution_count": 8,
   "metadata": {},
   "outputs": [],
   "source": [
    "latitudes = []\n",
    "longitudes = []\n",
    "for type_tag in root.findall(\"node\"):\n",
    "    d = type_tag.attrib\n",
    "    latitudes.append(float(d[\"lat\"]))\n",
    "    longitudes.append(float(d[\"lon\"]))"
   ]
  },
  {
   "cell_type": "code",
   "execution_count": 50,
   "metadata": {},
   "outputs": [],
   "source": [
    "LATITUDE_MILES = 69\n",
    "LONGITUDE_MILES = 54.6\n",
    "\n",
    "vertical_distance = (max(latitudes) - min(latitudes))*LATITUDE_MILES\n",
    "horizontal_distance = (max(longitudes) - min(longitudes))*LONGITUDE_MILES"
   ]
  },
  {
   "cell_type": "code",
   "execution_count": 51,
   "metadata": {},
   "outputs": [],
   "source": [
    "# Assuming we want to make 400 squares, how should we partition the vertically/horizontally\n",
    "NUM_REGIONS = 400\n",
    "square_len = (vertical_distance*horizontal_distance/NUM_REGIONS)**0.5"
   ]
  },
  {
   "cell_type": "code",
   "execution_count": 52,
   "metadata": {},
   "outputs": [
    {
     "data": {
      "text/plain": [
       "0.039167692270157484"
      ]
     },
     "execution_count": 52,
     "metadata": {},
     "output_type": "execute_result"
    }
   ],
   "source": [
    "latitude_delta = square_len/LATITUDE_MILES\n",
    "longitude_delta = square_len/LONGITUDE_MILES\n",
    "longitude_delta"
   ]
  },
  {
   "cell_type": "code",
   "execution_count": 53,
   "metadata": {},
   "outputs": [],
   "source": [
    "lat_lon = zip(latitudes, longitudes)"
   ]
  },
  {
   "cell_type": "code",
   "execution_count": 62,
   "metadata": {},
   "outputs": [],
   "source": [
    "min_lat = min(latitudes)\n",
    "min_lon = min(longitudes)\n",
    "max_lat = max(latitudes)\n",
    "max_lon = max(longitudes)\n",
    "nrows = math.ceil((max_lat - min_lat) / latitude_delta)\n",
    "ncols = math.ceil((max_lon - min_lon) / longitude_delta)\n",
    "def map_point_to_region(latitude, longitude):\n",
    "    return math.floor((latitude-min_lat)/latitude_delta) * ncols  + math.floor((longitude-min_lon)/longitude_delta)"
   ]
  },
  {
   "cell_type": "code",
   "execution_count": 74,
   "metadata": {},
   "outputs": [],
   "source": [
    "def get_representative(region_num): # 8 cols per row, # R10 --> row_num = 1, col_num = 2\n",
    "    row_num = region_num//ncols # Correct\n",
    "    col_num = region_num - row_num*ncols\n",
    "    lat = min_lat + row_num * latitude_delta + 0.5*latitude_delta\n",
    "    lon = min_lon + col_num * longitude_delta + 0.5*longitude_delta\n",
    "    return [lat, lon]"
   ]
  },
  {
   "cell_type": "code",
   "execution_count": 70,
   "metadata": {},
   "outputs": [
    {
     "data": {
      "text/plain": [
       "13"
      ]
     },
     "execution_count": 70,
     "metadata": {},
     "output_type": "execute_result"
    }
   ],
   "source": [
    "map_point_to_region(30.084446, -97.702885)"
   ]
  },
  {
   "cell_type": "code",
   "execution_count": 71,
   "metadata": {},
   "outputs": [
    {
     "data": {
      "text/plain": [
       "(30.090783782593846, -97.68468325435288)"
      ]
     },
     "execution_count": 71,
     "metadata": {},
     "output_type": "execute_result"
    }
   ],
   "source": [
    "get_representative(13)"
   ]
  },
  {
   "cell_type": "code",
   "execution_count": 67,
   "metadata": {},
   "outputs": [
    {
     "data": {
      "text/plain": [
       "0.030993565187689837"
      ]
     },
     "execution_count": 67,
     "metadata": {},
     "output_type": "execute_result"
    }
   ],
   "source": [
    "for i in range(400):\n",
    "    get_representative(i)"
   ]
  },
  {
   "cell_type": "code",
   "execution_count": 72,
   "metadata": {},
   "outputs": [],
   "source": [
    " headers = {\n",
    "    'Accept': 'application/json, application/geo+json, application/gpx+xml, img/png; charset=utf-8',\n",
    "    'Authorization': '5b3ce3597851110001cf624884518d9d4075408e95e3401165976247',\n",
    "    'Content-Type': 'application/json; charset=utf-8'\n",
    "}"
   ]
  },
  {
   "cell_type": "code",
   "execution_count": 76,
   "metadata": {},
   "outputs": [],
   "source": [
    "body = {\"locations\": [get_representative(i) for i in range(400)]}"
   ]
  },
  {
   "cell_type": "code",
   "execution_count": 78,
   "metadata": {},
   "outputs": [],
   "source": [
    "call = requests.post('https://api.openrouteservice.org/v2/matrix/driving-car', json=body, headers=headers)"
   ]
  },
  {
   "cell_type": "code",
   "execution_count": 80,
   "metadata": {},
   "outputs": [
    {
     "data": {
      "text/plain": [
       "b'{\"error\":{\"code\":6004,\"message\":\"Request parameters exceed the server configuration limits. Only a total of 3500 routes are allowed.\"},\"info\":{\"engine\":{\"version\":\"6.3.0\",\"build_date\":\"2020-09-21T01:00:26Z\"},\"timestamp\":1600714613837}}'"
      ]
     },
     "execution_count": 80,
     "metadata": {},
     "output_type": "execute_result"
    }
   ],
   "source": [
    "call._content # 400*400 = 160000"
   ]
  },
  {
   "cell_type": "code",
   "execution_count": 84,
   "metadata": {},
   "outputs": [
    {
     "data": {
      "text/plain": [
       "200.0"
      ]
     },
     "execution_count": 84,
     "metadata": {},
     "output_type": "execute_result"
    }
   ],
   "source": [
    "160000/"
   ]
  },
  {
   "cell_type": "code",
   "execution_count": 82,
   "metadata": {},
   "outputs": [
    {
     "data": {
      "text/plain": [
       "59.16079783099616"
      ]
     },
     "execution_count": 82,
     "metadata": {},
     "output_type": "execute_result"
    }
   ],
   "source": [
    "3500**0.5"
   ]
  },
  {
   "cell_type": "code",
   "execution_count": null,
   "metadata": {},
   "outputs": [],
   "source": []
  }
 ],
 "metadata": {
  "kernelspec": {
   "display_name": "Python 3",
   "language": "python",
   "name": "python3"
  },
  "language_info": {
   "codemirror_mode": {
    "name": "ipython",
    "version": 3
   },
   "file_extension": ".py",
   "mimetype": "text/x-python",
   "name": "python",
   "nbconvert_exporter": "python",
   "pygments_lexer": "ipython3",
   "version": "3.6.9"
  }
 },
 "nbformat": 4,
 "nbformat_minor": 2
}
