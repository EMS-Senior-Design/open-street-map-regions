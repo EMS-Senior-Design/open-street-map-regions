{
 "cells": [
  {
   "cell_type": "code",
   "execution_count": 18,
   "metadata": {},
   "outputs": [],
   "source": [
    "import xml.etree.ElementTree as ET\n",
    "import requests"
   ]
  },
  {
   "cell_type": "code",
   "execution_count": 2,
   "metadata": {},
   "outputs": [],
   "source": [
    "root = ET.parse('input-files/RoughlyTravisCounty.osm').getroot()"
   ]
  },
  {
   "cell_type": "code",
   "execution_count": 8,
   "metadata": {},
   "outputs": [],
   "source": [
    "latitudes = []\n",
    "longitudes = []\n",
    "for type_tag in root.findall(\"node\"):\n",
    "    d = type_tag.attrib\n",
    "    latitudes.append(float(d[\"lat\"]))\n",
    "    longitudes.append(float(d[\"lon\"]))"
   ]
  },
  {
   "cell_type": "code",
   "execution_count": 9,
   "metadata": {},
   "outputs": [],
   "source": [
    "LATITUDE_MILES = 69\n",
    "LONGITUDE_MILES = 54.6\n",
    "\n",
    "vertical_distance = (max(latitudes) - min(latitudes))*LATITUDE_MILES\n",
    "horizontal_distance = (max(longitudes) - min(longitudes))*LONGITUDE_MILES"
   ]
  },
  {
   "cell_type": "code",
   "execution_count": 13,
   "metadata": {},
   "outputs": [],
   "source": [
    "# Assuming we want to make 400 squares, how should we partition the vertically/horizontally\n",
    "NUM_REGIONS = 400\n",
    "square_len = (vertical_distance*horizontal_distance/NUM_REGIONS)**0.5"
   ]
  },
  {
   "cell_type": "code",
   "execution_count": 14,
   "metadata": {},
   "outputs": [],
   "source": [
    "latitude_delta = square_len/LATITUDE_MILES\n",
    "longitude_delta = square_len/LONGITUDE_MILES"
   ]
  },
  {
   "cell_type": "code",
   "execution_count": null,
   "metadata": {},
   "outputs": [],
   "source": []
  },
  {
   "cell_type": "code",
   "execution_count": null,
   "metadata": {},
   "outputs": [],
   "source": []
  },
  {
   "cell_type": "code",
   "execution_count": null,
   "metadata": {},
   "outputs": [],
   "source": []
  },
  {
   "cell_type": "code",
   "execution_count": null,
   "metadata": {},
   "outputs": [],
   "source": []
  }
 ],
 "metadata": {
  "kernelspec": {
   "display_name": "Python 3",
   "language": "python",
   "name": "python3"
  },
  "language_info": {
   "codemirror_mode": {
    "name": "ipython",
    "version": 3
   },
   "file_extension": ".py",
   "mimetype": "text/x-python",
   "name": "python",
   "nbconvert_exporter": "python",
   "pygments_lexer": "ipython3",
   "version": "3.6.9"
  }
 },
 "nbformat": 4,
 "nbformat_minor": 2
}
