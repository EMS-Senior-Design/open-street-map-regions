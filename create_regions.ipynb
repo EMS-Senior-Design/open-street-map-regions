{
 "cells": [
  {
   "cell_type": "code",
   "execution_count": 93,
   "metadata": {},
   "outputs": [],
   "source": [
    "# unzip input file first\n",
    "\n",
    "import xml.etree.ElementTree as ET\n",
    "import requests\n",
    "import math\n",
    "import pprint\n",
    "import time\n",
    "import numpy as np\n",
    "import pandas as pd"
   ]
  },
  {
   "cell_type": "markdown",
   "metadata": {},
   "source": [
    "## Travis County Boundary API"
   ]
  },
  {
   "cell_type": "code",
   "execution_count": 94,
   "metadata": {},
   "outputs": [],
   "source": [
    "root = ET.parse('input-files/RoughlyTravisCounty.osm').getroot()"
   ]
  },
  {
   "cell_type": "code",
   "execution_count": null,
   "metadata": {},
   "outputs": [],
   "source": [
    "latitudes = []\n",
    "longitudes = []\n",
    "for type_tag in root.findall(\"node\"):\n",
    "    d = type_tag.attrib\n",
    "    latitudes.append(float(d[\"lat\"]))\n",
    "    longitudes.append(float(d[\"lon\"]))"
   ]
  },
  {
   "cell_type": "markdown",
   "metadata": {},
   "source": [
    "## Region Mapping"
   ]
  },
  {
   "cell_type": "code",
   "execution_count": null,
   "metadata": {},
   "outputs": [],
   "source": [
    "LATITUDE_MILES = 69\n",
    "LONGITUDE_MILES = 54.6\n",
    "\n",
    "vertical_distance = (max(latitudes) - min(latitudes))*LATITUDE_MILES\n",
    "horizontal_distance = (max(longitudes) - min(longitudes))*LONGITUDE_MILES"
   ]
  },
  {
   "cell_type": "code",
   "execution_count": null,
   "metadata": {},
   "outputs": [],
   "source": [
    "# Assuming we want to make 400 squares, how should we partition the vertically/horizontally\n",
    "NUM_REGIONS = 3200\n",
    "square_len = (vertical_distance*horizontal_distance/NUM_REGIONS)**0.5"
   ]
  },
  {
   "cell_type": "code",
   "execution_count": null,
   "metadata": {},
   "outputs": [],
   "source": [
    "latitude_delta = square_len/LATITUDE_MILES\n",
    "longitude_delta = square_len/LONGITUDE_MILES\n",
    "longitude_delta"
   ]
  },
  {
   "cell_type": "code",
   "execution_count": null,
   "metadata": {},
   "outputs": [],
   "source": [
    "lat_lon = zip(latitudes, longitudes)"
   ]
  },
  {
   "cell_type": "code",
   "execution_count": null,
   "metadata": {},
   "outputs": [],
   "source": [
    "min_lat = min(latitudes)\n",
    "min_lon = min(longitudes)\n",
    "max_lat = max(latitudes)\n",
    "max_lon = max(longitudes)\n",
    "nrows = math.ceil((max_lat - min_lat) / latitude_delta)\n",
    "ncols = math.ceil((max_lon - min_lon) / longitude_delta)\n",
    "def map_point_to_region(latitude, longitude):\n",
    "    return math.floor((latitude-min_lat)/latitude_delta) * ncols  + math.floor((longitude-min_lon)/longitude_delta)"
   ]
  },
  {
   "cell_type": "code",
   "execution_count": null,
   "metadata": {},
   "outputs": [],
   "source": [
    "def get_representative(region_num): # 8 cols per row, # R10 --> row_num = 1, col_num = 2\n",
    "    row_num = region_num//ncols # Correct\n",
    "    col_num = region_num - row_num*ncols\n",
    "    lat = min_lat + row_num * latitude_delta + 0.5*latitude_delta\n",
    "    lon = min_lon + col_num * longitude_delta + 0.5*longitude_delta\n",
    "    return [lon, lat]"
   ]
  },
  {
   "cell_type": "code",
   "execution_count": null,
   "metadata": {},
   "outputs": [],
   "source": [
    "map_point_to_region(30.084446, -97.702885)"
   ]
  },
  {
   "cell_type": "code",
   "execution_count": null,
   "metadata": {},
   "outputs": [],
   "source": [
    "get_representative(13)"
   ]
  },
  {
   "cell_type": "code",
   "execution_count": null,
   "metadata": {},
   "outputs": [],
   "source": [
    "valid_regions = set()\n",
    "for lat, lon in zip(latitudes, longitudes):\n",
    "    valid_regions.add(map_point_to_region(lat, lon))"
   ]
  },
  {
   "cell_type": "code",
   "execution_count": null,
   "metadata": {},
   "outputs": [],
   "source": [
    "valid_regions = list(valid_regions)\n",
    "valid_regions.sort()"
   ]
  },
  {
   "cell_type": "code",
   "execution_count": null,
   "metadata": {
    "scrolled": false
   },
   "outputs": [],
   "source": [
    "region_coords = [get_representative(i) for i in range(3200)]\n",
    "pprint.pprint(region_coords)"
   ]
  },
  {
   "cell_type": "markdown",
   "metadata": {},
   "source": [
    "## Batch calls of distance matrix"
   ]
  },
  {
   "cell_type": "code",
   "execution_count": null,
   "metadata": {
    "scrolled": false
   },
   "outputs": [],
   "source": [
    "# Prepare data for api call\n",
    "\n",
    "locations = region_coords\n",
    "# locations = region_coords + ems_coords + hospital_coords\n",
    "durations = [[0 for i in range(3200)] for j in range(3200)]\n",
    "\n",
    "#pprint.pprint(locations)\n",
    "print(len(locations))"
   ]
  },
  {
   "cell_type": "code",
   "execution_count": 91,
   "metadata": {
    "scrolled": true
   },
   "outputs": [
    {
     "name": "stdout",
     "output_type": "stream",
     "text": [
      "1948\n"
     ]
    }
   ],
   "source": [
    "batch_size = 1\n",
    "num_batches = math.ceil(len(valid_regions) / batch_size)\n",
    "num_batches_per_round = math.ceil(num_batches/4)\n",
    "current_branch = 3\n",
    "remainder = len(valid_regions) % batch_size\n",
    "print(num_batches)"
   ]
  },
  {
   "cell_type": "code",
   "execution_count": 92,
   "metadata": {},
   "outputs": [],
   "source": [
    "headers = {\n",
    "    'Accept': 'application/json, application/geo+json, application/gpx+xml, img/png; charset=utf-8',\n",
    "    'Authorization': '5b3ce3597851110001cf624884518d9d4075408e95e3401165976247',\n",
    "#     'Authorization': '5b3ce3597851110001cf62485eef3a0ab19d4b3e8ad2d8c88dca3d19',\n",
    "    'Content-Type': 'application/json; charset=utf-8'\n",
    "}"
   ]
  },
  {
   "cell_type": "code",
   "execution_count": 87,
   "metadata": {},
   "outputs": [
    {
     "name": "stdout",
     "output_type": "stream",
     "text": [
      "batch  1461\n",
      "batch  1462\n",
      "batch  1463\n",
      "batch  1464\n",
      "batch  1465\n",
      "batch  1466\n",
      "batch  1467\n",
      "batch  1468\n",
      "batch  1469\n",
      "batch  1470\n",
      "batch  1471\n",
      "batch  1472\n",
      "batch  1473\n"
     ]
    },
    {
     "ename": "KeyError",
     "evalue": "'durations'",
     "output_type": "error",
     "traceback": [
      "\u001b[0;31m---------------------------------------------------------------------------\u001b[0m",
      "\u001b[0;31mKeyError\u001b[0m                                  Traceback (most recent call last)",
      "\u001b[0;32m<ipython-input-87-e39ad665a5b9>\u001b[0m in \u001b[0;36m<module>\u001b[0;34m\u001b[0m\n\u001b[1;32m     13\u001b[0m     \u001b[0mcall\u001b[0m \u001b[0;34m=\u001b[0m \u001b[0mrequests\u001b[0m\u001b[0;34m.\u001b[0m\u001b[0mpost\u001b[0m\u001b[0;34m(\u001b[0m\u001b[0;34m'https://api.openrouteservice.org/v2/matrix/driving-car'\u001b[0m\u001b[0;34m,\u001b[0m \u001b[0mjson\u001b[0m\u001b[0;34m=\u001b[0m\u001b[0mbody\u001b[0m\u001b[0;34m,\u001b[0m \u001b[0mheaders\u001b[0m\u001b[0;34m=\u001b[0m\u001b[0mheaders\u001b[0m\u001b[0;34m)\u001b[0m\u001b[0;34m\u001b[0m\u001b[0m\n\u001b[1;32m     14\u001b[0m \u001b[0;34m\u001b[0m\u001b[0m\n\u001b[0;32m---> 15\u001b[0;31m     \u001b[0mduration_batch\u001b[0m \u001b[0;34m=\u001b[0m \u001b[0mcall\u001b[0m\u001b[0;34m.\u001b[0m\u001b[0mjson\u001b[0m\u001b[0;34m(\u001b[0m\u001b[0;34m)\u001b[0m\u001b[0;34m[\u001b[0m\u001b[0;34m'durations'\u001b[0m\u001b[0;34m]\u001b[0m\u001b[0;34m\u001b[0m\u001b[0m\n\u001b[0m\u001b[1;32m     16\u001b[0m \u001b[0;34m\u001b[0m\u001b[0m\n\u001b[1;32m     17\u001b[0m     \u001b[0;32mfor\u001b[0m \u001b[0mj\u001b[0m \u001b[0;32min\u001b[0m \u001b[0mrange\u001b[0m\u001b[0;34m(\u001b[0m\u001b[0mlen\u001b[0m\u001b[0;34m(\u001b[0m\u001b[0mduration_batch\u001b[0m\u001b[0;34m)\u001b[0m\u001b[0;34m)\u001b[0m\u001b[0;34m:\u001b[0m\u001b[0;34m\u001b[0m\u001b[0m\n",
      "\u001b[0;31mKeyError\u001b[0m: 'durations'"
     ]
    }
   ],
   "source": [
    "for i in range(num_batches_per_round*current_branch, min(num_batches_per_round*current_branch+num_batches_per_round, len(valid_regions))):\n",
    "    print(\"batch \", i)\n",
    "    start = i * batch_size\n",
    "    sources = list(range(start, start + batch_size))\n",
    "\n",
    "    # handle last partial batch\n",
    "    if(sources[batch_size - 1] >= len(locations)):\n",
    "        sources = sources[:remainder]\n",
    "\n",
    "    locations = [get_representative(valid_regions[j]) for j in range(len(valid_regions))]\n",
    "\n",
    "    body = {\"locations\": locations, \"sources\": sources}\n",
    "    call = requests.post('https://api.openrouteservice.org/v2/matrix/driving-car', json=body, headers=headers)\n",
    "\n",
    "    duration_batch = call.json()['durations']\n",
    "\n",
    "    for j in range(len(duration_batch)):\n",
    "        for k in range(len(duration_batch[0])):\n",
    "            durations[valid_regions[i*batch_size + j]][valid_regions[k]] = duration_batch[j][k]\n",
    "    time.sleep(0.1)\n"
   ]
  },
  {
   "cell_type": "code",
   "execution_count": 43,
   "metadata": {},
   "outputs": [
    {
     "data": {
      "text/plain": [
       "3.975510204081633"
      ]
     },
     "execution_count": 43,
     "metadata": {},
     "output_type": "execute_result"
    }
   ],
   "source": [
    "len(valid_regions)/490"
   ]
  },
  {
   "cell_type": "code",
   "execution_count": 30,
   "metadata": {},
   "outputs": [
    {
     "name": "stdout",
     "output_type": "stream",
     "text": [
      "467 467\n"
     ]
    }
   ],
   "source": [
    "print(len(durations), len(durations[0]))"
   ]
  },
  {
   "cell_type": "code",
   "execution_count": 78,
   "metadata": {},
   "outputs": [],
   "source": [
    "np.save(\"durations4.npy\", durations)"
   ]
  },
  {
   "cell_type": "code",
   "execution_count": null,
   "metadata": {},
   "outputs": [],
   "source": [
    "durations = np.load(\"durations3.npy\", allow_pickle=True)"
   ]
  },
  {
   "cell_type": "code",
   "execution_count": null,
   "metadata": {},
   "outputs": [],
   "source": [
    "import json\n",
    "\n",
    "d = {\"latitude_min\": min_lat, \"longitude_min\": min_lon, \"latitude_step\": latitude_delta, \"longitude_step\": longitude_delta}\n",
    "d[\"time_matrix\"] = durations\n",
    "with open(\"grid_info.json\", \"w\") as j:\n",
    "    json.dump(d, j)"
   ]
  }
 ],
 "metadata": {
  "kernelspec": {
   "display_name": "Python 3",
   "language": "python",
   "name": "python3"
  },
  "language_info": {
   "codemirror_mode": {
    "name": "ipython",
    "version": 3
   },
   "file_extension": ".py",
   "mimetype": "text/x-python",
   "name": "python",
   "nbconvert_exporter": "python",
   "pygments_lexer": "ipython3",
   "version": "3.6.4"
  }
 },
 "nbformat": 4,
 "nbformat_minor": 2
}
